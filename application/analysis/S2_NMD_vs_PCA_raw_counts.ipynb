{
 "cells": [
  {
   "cell_type": "markdown",
   "metadata": {},
   "source": [
    "### Import libraries"
   ]
  },
  {
   "cell_type": "code",
   "execution_count": 1,
   "metadata": {},
   "outputs": [],
   "source": [
    "%%capture\n",
    "#!pip install scanpy\n",
    "#!pip install KDEpy\n",
    "#!pip install leidenalg"
   ]
  },
  {
   "cell_type": "code",
   "execution_count": 2,
   "metadata": {},
   "outputs": [],
   "source": [
    "%%capture\n",
    "# Remember to restart the kernel once installed\n",
    "#!pip install -e ../../../tools/nomad/"
   ]
  },
  {
   "cell_type": "code",
   "execution_count": 5,
   "metadata": {},
   "outputs": [],
   "source": [
    "import os\n",
    "import sys\n",
    "\n",
    "import pandas as pd\n",
    "import scanpy as sc\n",
    "import anndata as ad\n",
    "import numpy as np\n",
    "import seaborn as sns\n",
    "import matplotlib.pyplot as plt\n",
    "import matplotlib.transforms as mtransforms\n",
    "import scipy.sparse as sps\n",
    "from scipy.stats import spearmanr, kendalltau, pearsonr\n",
    "\n",
    "# to be able to import from tools dir\n",
    "module_path = os.path.abspath(os.path.join(\"../\"))\n",
    "if module_path not in sys.path:\n",
    "    sys.path.append(module_path)\n",
    "\n",
    "import tools.util as ut\n",
    "import tools.countsplit as cs\n",
    "import tools.scDEED as scd\n",
    "import tools.clustering_opt as co\n",
    "\n",
    "import fi_nomad as nmd\n",
    "from fi_nomad.types import kernelInputTypes\n",
    "from fi_nomad.types import KernelStrategy\n",
    "from fi_nomad.types import InitializationStrategy\n",
    "\n",
    "import warnings\n",
    "\n",
    "warnings.filterwarnings(\"ignore\")\n",
    "\n",
    "import importlib\n",
    "import logging"
   ]
  },
  {
   "cell_type": "code",
   "execution_count": 6,
   "metadata": {},
   "outputs": [],
   "source": [
    "# logging has to manually turned on to see nomad output\n",
    "logging.basicConfig(level=logging.INFO)"
   ]
  },
  {
   "cell_type": "markdown",
   "metadata": {},
   "source": [
    "### Read data"
   ]
  },
  {
   "cell_type": "code",
   "execution_count": 7,
   "metadata": {},
   "outputs": [
    {
     "data": {
      "text/plain": [
       "AnnData object with n_obs × n_vars = 1255 × 5540\n",
       "    obs: 'n_genes_by_counts', 'log1p_n_genes_by_counts', 'total_counts', 'log1p_total_counts', 'outlier', 'n_genes', 'total_counts_norm', 'total_counts_scale', 'embedding_reliability', 'reliability_score', 'null_reliability_score', 'leiden_opt'\n",
       "    var: 'feature_types', 'genome', 'n_cells_by_counts', 'mean_counts', 'log1p_mean_counts', 'pct_dropout_by_counts', 'total_counts', 'log1p_total_counts', 'n_cells', 'var_counts', 'is_scd_outlier', 'nb_overdisp', 'nb_overdisp_cutoff', 'nb_mean', 'nb_umi', 'Intercept_step1_sct', 'log_umi_step1_sct', 'dispersion_step1_sct', 'mean', 'std'\n",
       "    uns: 'BacSC_params_PCA', 'PCA', 'leiden', 'leiden_opt_colors', 'pca', 'umap'\n",
       "    obsm: 'X_pca', 'X_umap'\n",
       "    varm: 'PCs'\n",
       "    layers: 'counts', 'vst_counts'\n",
       "    obsp: 'PCA_connectivities', 'PCA_distances'"
      ]
     },
     "execution_count": 7,
     "metadata": {},
     "output_type": "execute_result"
    }
   ],
   "source": [
    "data_path = \"../data/S2\"\n",
    "data = sc.read_h5ad(data_path + \"/filtered_data_maxpool_processed_and_pca.h5ad\")\n",
    "data"
   ]
  },
  {
   "cell_type": "markdown",
   "metadata": {},
   "source": [
    "### Countsplit"
   ]
  },
  {
   "cell_type": "code",
   "execution_count": 8,
   "metadata": {},
   "outputs": [],
   "source": [
    "data_train, data_test = cs.countsplit_adata(\n",
    "    data,\n",
    "    data_dist=\"NB\",\n",
    "    beta_key=\"nb_overdisp_cutoff\",\n",
    "    layer=\"counts\",\n",
    "    min_genes=1,\n",
    "    max_counts=1e9,\n",
    "    seed=1234,\n",
    ")"
   ]
  },
  {
   "cell_type": "markdown",
   "metadata": {},
   "source": [
    "### Search latent dimension and momentum parameter"
   ]
  },
  {
   "cell_type": "code",
   "execution_count": 9,
   "metadata": {},
   "outputs": [
    {
     "data": {
      "text/plain": [
       "[0.0, 0.1, 0.2, 0.3, 0.4, 0.5, 0.6, 0.7, 0.8, 0.9]"
      ]
     },
     "execution_count": 9,
     "metadata": {},
     "output_type": "execute_result"
    }
   ],
   "source": [
    "ks_2_check = [10, 9, 8, 7, 6, 5, 4, 3, 2, 1]\n",
    "betas_2_check = [0.0, 0.1, 0.2, 0.3, 0.4, 0.5, 0.6, 0.7, 0.8, 0.9]\n",
    "betas_2_check"
   ]
  },
  {
   "cell_type": "markdown",
   "metadata": {},
   "source": [
    "In case you don't want to rerun:"
   ]
  },
  {
   "cell_type": "code",
   "execution_count": null,
   "metadata": {},
   "outputs": [],
   "source": [
    "#k_opt=1\n",
    "#beta_opt=0.7"
   ]
  },
  {
   "cell_type": "code",
   "execution_count": 10,
   "metadata": {},
   "outputs": [
    {
     "name": "stdout",
     "output_type": "stream",
     "text": [
      "################## LATENT DIM 10\n"
     ]
    },
    {
     "name": "stderr",
     "output_type": "stream",
     "text": [
      "INFO:fi_nomad.entry:\tInitiating run, target_rank: 10, tolerance: None\n"
     ]
    },
    {
     "name": "stdout",
     "output_type": "stream",
     "text": [
      "################## BETA 0.0\n"
     ]
    },
    {
     "name": "stderr",
     "output_type": "stream",
     "text": [
      "INFO:fi_nomad.entry:200 total, final loss Not Tracked\n",
      "INFO:fi_nomad.entry:\tInitialization took 3.970300895161927e-05 loop took 43.27981712599285 overall (0.21639908562996424/ea)\n",
      "INFO:fi_nomad.entry:\tInitiating run, target_rank: 10, tolerance: None\n"
     ]
    },
    {
     "name": "stdout",
     "output_type": "stream",
     "text": [
      "################## BETA 0.1\n"
     ]
    },
    {
     "name": "stderr",
     "output_type": "stream",
     "text": [
      "INFO:fi_nomad.entry:200 total, final loss Not Tracked\n",
      "INFO:fi_nomad.entry:\tInitialization took 3.2329000532627106e-05 loop took 44.464010576019064 overall (0.22232005288009532/ea)\n",
      "INFO:fi_nomad.entry:\tInitiating run, target_rank: 10, tolerance: None\n"
     ]
    },
    {
     "name": "stdout",
     "output_type": "stream",
     "text": [
      "################## BETA 0.2\n"
     ]
    },
    {
     "name": "stderr",
     "output_type": "stream",
     "text": [
      "INFO:fi_nomad.entry:200 total, final loss Not Tracked\n",
      "INFO:fi_nomad.entry:\tInitialization took 3.60140111297369e-05 loop took 41.54929258298944 overall (0.2077464629149472/ea)\n",
      "INFO:fi_nomad.entry:\tInitiating run, target_rank: 10, tolerance: None\n"
     ]
    },
    {
     "name": "stdout",
     "output_type": "stream",
     "text": [
      "################## BETA 0.3\n"
     ]
    },
    {
     "name": "stderr",
     "output_type": "stream",
     "text": [
      "INFO:fi_nomad.entry:200 total, final loss Not Tracked\n",
      "INFO:fi_nomad.entry:\tInitialization took 3.0624010832980275e-05 loop took 41.39787408997654 overall (0.2069893704498827/ea)\n",
      "INFO:fi_nomad.entry:\tInitiating run, target_rank: 10, tolerance: None\n"
     ]
    },
    {
     "name": "stdout",
     "output_type": "stream",
     "text": [
      "################## BETA 0.4\n"
     ]
    },
    {
     "name": "stderr",
     "output_type": "stream",
     "text": [
      "INFO:fi_nomad.entry:200 total, final loss Not Tracked\n",
      "INFO:fi_nomad.entry:\tInitialization took 3.657699562609196e-05 loop took 35.08527391802636 overall (0.1754263695901318/ea)\n",
      "INFO:fi_nomad.entry:\tInitiating run, target_rank: 10, tolerance: None\n"
     ]
    },
    {
     "name": "stdout",
     "output_type": "stream",
     "text": [
      "################## BETA 0.5\n"
     ]
    },
    {
     "name": "stderr",
     "output_type": "stream",
     "text": [
      "INFO:fi_nomad.entry:200 total, final loss Not Tracked\n",
      "INFO:fi_nomad.entry:\tInitialization took 3.3015996450558305e-05 loop took 33.88373666899861 overall (0.16941868334499305/ea)\n",
      "INFO:fi_nomad.entry:\tInitiating run, target_rank: 10, tolerance: None\n"
     ]
    },
    {
     "name": "stdout",
     "output_type": "stream",
     "text": [
      "################## BETA 0.6\n"
     ]
    },
    {
     "name": "stderr",
     "output_type": "stream",
     "text": [
      "INFO:fi_nomad.entry:200 total, final loss Not Tracked\n",
      "INFO:fi_nomad.entry:\tInitialization took 2.522001159377396e-05 loop took 36.25066782301292 overall (0.18125333911506458/ea)\n",
      "INFO:fi_nomad.entry:\tInitiating run, target_rank: 10, tolerance: None\n"
     ]
    },
    {
     "name": "stdout",
     "output_type": "stream",
     "text": [
      "################## BETA 0.7\n"
     ]
    },
    {
     "name": "stderr",
     "output_type": "stream",
     "text": [
      "INFO:fi_nomad.entry:200 total, final loss Not Tracked\n",
      "INFO:fi_nomad.entry:\tInitialization took 3.9161997847259045e-05 loop took 35.50417887402 overall (0.1775208943701/ea)\n",
      "INFO:fi_nomad.entry:\tInitiating run, target_rank: 10, tolerance: None\n"
     ]
    },
    {
     "name": "stdout",
     "output_type": "stream",
     "text": [
      "################## BETA 0.8\n"
     ]
    },
    {
     "name": "stderr",
     "output_type": "stream",
     "text": [
      "INFO:fi_nomad.entry:200 total, final loss Not Tracked\n",
      "INFO:fi_nomad.entry:\tInitialization took 2.3469998268410563e-05 loop took 36.410082741989754 overall (0.18205041370994876/ea)\n",
      "INFO:fi_nomad.entry:\tInitiating run, target_rank: 10, tolerance: None\n"
     ]
    },
    {
     "name": "stdout",
     "output_type": "stream",
     "text": [
      "################## BETA 0.9\n"
     ]
    },
    {
     "name": "stderr",
     "output_type": "stream",
     "text": [
      "INFO:fi_nomad.entry:200 total, final loss Not Tracked\n",
      "INFO:fi_nomad.entry:\tInitialization took 3.430302604101598e-05 loop took 35.53215995099163 overall (0.17766079975495813/ea)\n"
     ]
    },
    {
     "name": "stdout",
     "output_type": "stream",
     "text": [
      "################## LATENT DIM 9\n"
     ]
    },
    {
     "name": "stderr",
     "output_type": "stream",
     "text": [
      "INFO:fi_nomad.entry:\tInitiating run, target_rank: 9, tolerance: None\n"
     ]
    },
    {
     "name": "stdout",
     "output_type": "stream",
     "text": [
      "################## BETA 0.0\n"
     ]
    },
    {
     "name": "stderr",
     "output_type": "stream",
     "text": [
      "INFO:fi_nomad.entry:200 total, final loss Not Tracked\n",
      "INFO:fi_nomad.entry:\tInitialization took 4.0902988985180855e-05 loop took 39.454410078004 overall (0.19727205039002002/ea)\n",
      "INFO:fi_nomad.entry:\tInitiating run, target_rank: 9, tolerance: None\n"
     ]
    },
    {
     "name": "stdout",
     "output_type": "stream",
     "text": [
      "################## BETA 0.1\n"
     ]
    },
    {
     "name": "stderr",
     "output_type": "stream",
     "text": [
      "INFO:fi_nomad.entry:200 total, final loss Not Tracked\n",
      "INFO:fi_nomad.entry:\tInitialization took 2.5348999770358205e-05 loop took 34.75304171300377 overall (0.17376520856501884/ea)\n",
      "INFO:fi_nomad.entry:\tInitiating run, target_rank: 9, tolerance: None\n"
     ]
    },
    {
     "name": "stdout",
     "output_type": "stream",
     "text": [
      "################## BETA 0.2\n"
     ]
    },
    {
     "name": "stderr",
     "output_type": "stream",
     "text": [
      "INFO:fi_nomad.entry:200 total, final loss Not Tracked\n",
      "INFO:fi_nomad.entry:\tInitialization took 2.518098335713148e-05 loop took 36.82496190301026 overall (0.1841248095150513/ea)\n",
      "INFO:fi_nomad.entry:\tInitiating run, target_rank: 9, tolerance: None\n"
     ]
    },
    {
     "name": "stdout",
     "output_type": "stream",
     "text": [
      "################## BETA 0.3\n"
     ]
    },
    {
     "name": "stderr",
     "output_type": "stream",
     "text": [
      "INFO:fi_nomad.entry:200 total, final loss Not Tracked\n",
      "INFO:fi_nomad.entry:\tInitialization took 2.6043999241665006e-05 loop took 34.436005925992504 overall (0.1721800296299625/ea)\n",
      "INFO:fi_nomad.entry:\tInitiating run, target_rank: 9, tolerance: None\n"
     ]
    },
    {
     "name": "stdout",
     "output_type": "stream",
     "text": [
      "################## BETA 0.4\n"
     ]
    },
    {
     "name": "stderr",
     "output_type": "stream",
     "text": [
      "INFO:fi_nomad.entry:200 total, final loss Not Tracked\n",
      "INFO:fi_nomad.entry:\tInitialization took 2.5500979973003268e-05 loop took 34.212290468014544 overall (0.17106145234007272/ea)\n",
      "INFO:fi_nomad.entry:\tInitiating run, target_rank: 9, tolerance: None\n"
     ]
    },
    {
     "name": "stdout",
     "output_type": "stream",
     "text": [
      "################## BETA 0.5\n"
     ]
    },
    {
     "name": "stderr",
     "output_type": "stream",
     "text": [
      "INFO:fi_nomad.entry:200 total, final loss Not Tracked\n",
      "INFO:fi_nomad.entry:\tInitialization took 3.2306008506566286e-05 loop took 34.1264703089837 overall (0.1706323515449185/ea)\n",
      "INFO:fi_nomad.entry:\tInitiating run, target_rank: 9, tolerance: None\n"
     ]
    },
    {
     "name": "stdout",
     "output_type": "stream",
     "text": [
      "################## BETA 0.6\n"
     ]
    },
    {
     "name": "stderr",
     "output_type": "stream",
     "text": [
      "INFO:fi_nomad.entry:200 total, final loss Not Tracked\n",
      "INFO:fi_nomad.entry:\tInitialization took 2.7169997338205576e-05 loop took 34.256746118015144 overall (0.17128373059007573/ea)\n",
      "INFO:fi_nomad.entry:\tInitiating run, target_rank: 9, tolerance: None\n"
     ]
    },
    {
     "name": "stdout",
     "output_type": "stream",
     "text": [
      "################## BETA 0.7\n"
     ]
    },
    {
     "name": "stderr",
     "output_type": "stream",
     "text": [
      "INFO:fi_nomad.entry:200 total, final loss Not Tracked\n",
      "INFO:fi_nomad.entry:\tInitialization took 2.4909008061513305e-05 loop took 34.49658363798517 overall (0.17248291818992584/ea)\n",
      "INFO:fi_nomad.entry:\tInitiating run, target_rank: 9, tolerance: None\n"
     ]
    },
    {
     "name": "stdout",
     "output_type": "stream",
     "text": [
      "################## BETA 0.8\n"
     ]
    },
    {
     "name": "stderr",
     "output_type": "stream",
     "text": [
      "INFO:fi_nomad.entry:200 total, final loss Not Tracked\n",
      "INFO:fi_nomad.entry:\tInitialization took 3.586700768209994e-05 loop took 34.54627938501653 overall (0.17273139692508266/ea)\n",
      "INFO:fi_nomad.entry:\tInitiating run, target_rank: 9, tolerance: None\n"
     ]
    },
    {
     "name": "stdout",
     "output_type": "stream",
     "text": [
      "################## BETA 0.9\n"
     ]
    },
    {
     "name": "stderr",
     "output_type": "stream",
     "text": [
      "INFO:fi_nomad.entry:200 total, final loss Not Tracked\n",
      "INFO:fi_nomad.entry:\tInitialization took 2.480202238075435e-05 loop took 34.28221525598201 overall (0.17141107627991004/ea)\n"
     ]
    },
    {
     "name": "stdout",
     "output_type": "stream",
     "text": [
      "################## LATENT DIM 8\n"
     ]
    },
    {
     "name": "stderr",
     "output_type": "stream",
     "text": [
      "INFO:fi_nomad.entry:\tInitiating run, target_rank: 8, tolerance: None\n"
     ]
    },
    {
     "name": "stdout",
     "output_type": "stream",
     "text": [
      "################## BETA 0.0\n"
     ]
    },
    {
     "name": "stderr",
     "output_type": "stream",
     "text": [
      "INFO:fi_nomad.entry:200 total, final loss Not Tracked\n",
      "INFO:fi_nomad.entry:\tInitialization took 3.715901402756572e-05 loop took 34.05001393400016 overall (0.1702500696700008/ea)\n",
      "INFO:fi_nomad.entry:\tInitiating run, target_rank: 8, tolerance: None\n"
     ]
    },
    {
     "name": "stdout",
     "output_type": "stream",
     "text": [
      "################## BETA 0.1\n"
     ]
    },
    {
     "name": "stderr",
     "output_type": "stream",
     "text": [
      "INFO:fi_nomad.entry:200 total, final loss Not Tracked\n",
      "INFO:fi_nomad.entry:\tInitialization took 2.4316977942362428e-05 loop took 33.361908527003834 overall (0.16680954263501918/ea)\n",
      "INFO:fi_nomad.entry:\tInitiating run, target_rank: 8, tolerance: None\n"
     ]
    },
    {
     "name": "stdout",
     "output_type": "stream",
     "text": [
      "################## BETA 0.2\n"
     ]
    },
    {
     "name": "stderr",
     "output_type": "stream",
     "text": [
      "INFO:fi_nomad.entry:200 total, final loss Not Tracked\n",
      "INFO:fi_nomad.entry:\tInitialization took 2.3485015844926238e-05 loop took 34.07186570498743 overall (0.17035932852493715/ea)\n",
      "INFO:fi_nomad.entry:\tInitiating run, target_rank: 8, tolerance: None\n"
     ]
    },
    {
     "name": "stdout",
     "output_type": "stream",
     "text": [
      "################## BETA 0.3\n"
     ]
    },
    {
     "name": "stderr",
     "output_type": "stream",
     "text": [
      "INFO:fi_nomad.entry:200 total, final loss Not Tracked\n",
      "INFO:fi_nomad.entry:\tInitialization took 5.4334988817572594e-05 loop took 33.376233228016645 overall (0.16688116614008322/ea)\n",
      "INFO:fi_nomad.entry:\tInitiating run, target_rank: 8, tolerance: None\n"
     ]
    },
    {
     "name": "stdout",
     "output_type": "stream",
     "text": [
      "################## BETA 0.4\n"
     ]
    },
    {
     "name": "stderr",
     "output_type": "stream",
     "text": [
      "INFO:fi_nomad.entry:200 total, final loss Not Tracked\n",
      "INFO:fi_nomad.entry:\tInitialization took 2.692500129342079e-05 loop took 34.332434837007895 overall (0.17166217418503948/ea)\n",
      "INFO:fi_nomad.entry:\tInitiating run, target_rank: 8, tolerance: None\n"
     ]
    },
    {
     "name": "stdout",
     "output_type": "stream",
     "text": [
      "################## BETA 0.5\n"
     ]
    },
    {
     "name": "stderr",
     "output_type": "stream",
     "text": [
      "INFO:fi_nomad.entry:200 total, final loss Not Tracked\n",
      "INFO:fi_nomad.entry:\tInitialization took 2.3330008843913674e-05 loop took 34.565070944983745 overall (0.17282535472491872/ea)\n",
      "INFO:fi_nomad.entry:\tInitiating run, target_rank: 8, tolerance: None\n"
     ]
    },
    {
     "name": "stdout",
     "output_type": "stream",
     "text": [
      "################## BETA 0.6\n"
     ]
    },
    {
     "name": "stderr",
     "output_type": "stream",
     "text": [
      "INFO:fi_nomad.entry:200 total, final loss Not Tracked\n",
      "INFO:fi_nomad.entry:\tInitialization took 2.4170003598555923e-05 loop took 35.26707728297333 overall (0.17633538641486665/ea)\n",
      "INFO:fi_nomad.entry:\tInitiating run, target_rank: 8, tolerance: None\n"
     ]
    },
    {
     "name": "stdout",
     "output_type": "stream",
     "text": [
      "################## BETA 0.7\n"
     ]
    },
    {
     "name": "stderr",
     "output_type": "stream",
     "text": [
      "INFO:fi_nomad.entry:200 total, final loss Not Tracked\n",
      "INFO:fi_nomad.entry:\tInitialization took 3.206799738109112e-05 loop took 33.70255446402007 overall (0.16851277232010034/ea)\n",
      "INFO:fi_nomad.entry:\tInitiating run, target_rank: 8, tolerance: None\n"
     ]
    },
    {
     "name": "stdout",
     "output_type": "stream",
     "text": [
      "################## BETA 0.8\n"
     ]
    },
    {
     "name": "stderr",
     "output_type": "stream",
     "text": [
      "INFO:fi_nomad.entry:200 total, final loss Not Tracked\n",
      "INFO:fi_nomad.entry:\tInitialization took 3.3338990760967135e-05 loop took 33.376170458999695 overall (0.16688085229499847/ea)\n",
      "INFO:fi_nomad.entry:\tInitiating run, target_rank: 8, tolerance: None\n"
     ]
    },
    {
     "name": "stdout",
     "output_type": "stream",
     "text": [
      "################## BETA 0.9\n"
     ]
    },
    {
     "name": "stderr",
     "output_type": "stream",
     "text": [
      "INFO:fi_nomad.entry:200 total, final loss Not Tracked\n",
      "INFO:fi_nomad.entry:\tInitialization took 2.368699642829597e-05 loop took 35.24971151200589 overall (0.17624855756002944/ea)\n"
     ]
    },
    {
     "name": "stdout",
     "output_type": "stream",
     "text": [
      "################## LATENT DIM 7\n"
     ]
    },
    {
     "name": "stderr",
     "output_type": "stream",
     "text": [
      "INFO:fi_nomad.entry:\tInitiating run, target_rank: 7, tolerance: None\n"
     ]
    },
    {
     "name": "stdout",
     "output_type": "stream",
     "text": [
      "################## BETA 0.0\n"
     ]
    },
    {
     "name": "stderr",
     "output_type": "stream",
     "text": [
      "INFO:fi_nomad.entry:200 total, final loss Not Tracked\n",
      "INFO:fi_nomad.entry:\tInitialization took 3.8861006032675505e-05 loop took 32.30343762697885 overall (0.16151718813489424/ea)\n",
      "INFO:fi_nomad.entry:\tInitiating run, target_rank: 7, tolerance: None\n"
     ]
    },
    {
     "name": "stdout",
     "output_type": "stream",
     "text": [
      "################## BETA 0.1\n"
     ]
    },
    {
     "name": "stderr",
     "output_type": "stream",
     "text": [
      "INFO:fi_nomad.entry:200 total, final loss Not Tracked\n",
      "INFO:fi_nomad.entry:\tInitialization took 2.8178008506074548e-05 loop took 31.956839080987265 overall (0.15978419540493632/ea)\n",
      "INFO:fi_nomad.entry:\tInitiating run, target_rank: 7, tolerance: None\n"
     ]
    },
    {
     "name": "stdout",
     "output_type": "stream",
     "text": [
      "################## BETA 0.2\n"
     ]
    },
    {
     "name": "stderr",
     "output_type": "stream",
     "text": [
      "INFO:fi_nomad.entry:200 total, final loss Not Tracked\n",
      "INFO:fi_nomad.entry:\tInitialization took 2.498700632713735e-05 loop took 34.397004894999554 overall (0.17198502447499778/ea)\n",
      "INFO:fi_nomad.entry:\tInitiating run, target_rank: 7, tolerance: None\n"
     ]
    },
    {
     "name": "stdout",
     "output_type": "stream",
     "text": [
      "################## BETA 0.3\n"
     ]
    },
    {
     "name": "stderr",
     "output_type": "stream",
     "text": [
      "INFO:fi_nomad.entry:200 total, final loss Not Tracked\n",
      "INFO:fi_nomad.entry:\tInitialization took 2.7064001187682152e-05 loop took 33.05073761098902 overall (0.16525368805494509/ea)\n",
      "INFO:fi_nomad.entry:\tInitiating run, target_rank: 7, tolerance: None\n"
     ]
    },
    {
     "name": "stdout",
     "output_type": "stream",
     "text": [
      "################## BETA 0.4\n"
     ]
    },
    {
     "name": "stderr",
     "output_type": "stream",
     "text": [
      "INFO:fi_nomad.entry:200 total, final loss Not Tracked\n",
      "INFO:fi_nomad.entry:\tInitialization took 2.3038010112941265e-05 loop took 31.830878114997176 overall (0.15915439057498587/ea)\n",
      "INFO:fi_nomad.entry:\tInitiating run, target_rank: 7, tolerance: None\n"
     ]
    },
    {
     "name": "stdout",
     "output_type": "stream",
     "text": [
      "################## BETA 0.5\n"
     ]
    },
    {
     "name": "stderr",
     "output_type": "stream",
     "text": [
      "INFO:fi_nomad.entry:200 total, final loss Not Tracked\n",
      "INFO:fi_nomad.entry:\tInitialization took 2.4601002223789692e-05 loop took 31.697346255008597 overall (0.15848673127504298/ea)\n",
      "INFO:fi_nomad.entry:\tInitiating run, target_rank: 7, tolerance: None\n"
     ]
    },
    {
     "name": "stdout",
     "output_type": "stream",
     "text": [
      "################## BETA 0.6\n"
     ]
    },
    {
     "name": "stderr",
     "output_type": "stream",
     "text": [
      "INFO:fi_nomad.entry:200 total, final loss Not Tracked\n",
      "INFO:fi_nomad.entry:\tInitialization took 2.381502417847514e-05 loop took 31.640873272001045 overall (0.15820436636000523/ea)\n",
      "INFO:fi_nomad.entry:\tInitiating run, target_rank: 7, tolerance: None\n"
     ]
    },
    {
     "name": "stdout",
     "output_type": "stream",
     "text": [
      "################## BETA 0.7\n"
     ]
    },
    {
     "name": "stderr",
     "output_type": "stream",
     "text": [
      "INFO:fi_nomad.entry:200 total, final loss Not Tracked\n",
      "INFO:fi_nomad.entry:\tInitialization took 2.5538000045344234e-05 loop took 31.679143453016877 overall (0.1583957172650844/ea)\n",
      "INFO:fi_nomad.entry:\tInitiating run, target_rank: 7, tolerance: None\n"
     ]
    },
    {
     "name": "stdout",
     "output_type": "stream",
     "text": [
      "################## BETA 0.8\n"
     ]
    },
    {
     "name": "stderr",
     "output_type": "stream",
     "text": [
      "INFO:fi_nomad.entry:200 total, final loss Not Tracked\n",
      "INFO:fi_nomad.entry:\tInitialization took 2.3433996830135584e-05 loop took 34.00148039800115 overall (0.17000740199000575/ea)\n",
      "INFO:fi_nomad.entry:\tInitiating run, target_rank: 7, tolerance: None\n"
     ]
    },
    {
     "name": "stdout",
     "output_type": "stream",
     "text": [
      "################## BETA 0.9\n"
     ]
    },
    {
     "name": "stderr",
     "output_type": "stream",
     "text": [
      "INFO:fi_nomad.entry:200 total, final loss Not Tracked\n",
      "INFO:fi_nomad.entry:\tInitialization took 2.531500649638474e-05 loop took 35.30199016598635 overall (0.17650995082993176/ea)\n"
     ]
    },
    {
     "name": "stdout",
     "output_type": "stream",
     "text": [
      "################## LATENT DIM 6\n"
     ]
    },
    {
     "name": "stderr",
     "output_type": "stream",
     "text": [
      "INFO:fi_nomad.entry:\tInitiating run, target_rank: 6, tolerance: None\n"
     ]
    },
    {
     "name": "stdout",
     "output_type": "stream",
     "text": [
      "################## BETA 0.0\n"
     ]
    },
    {
     "name": "stderr",
     "output_type": "stream",
     "text": [
      "INFO:fi_nomad.entry:200 total, final loss Not Tracked\n",
      "INFO:fi_nomad.entry:\tInitialization took 3.000799915753305e-05 loop took 36.96501784498105 overall (0.18482508922490523/ea)\n",
      "INFO:fi_nomad.entry:\tInitiating run, target_rank: 6, tolerance: None\n"
     ]
    },
    {
     "name": "stdout",
     "output_type": "stream",
     "text": [
      "################## BETA 0.1\n"
     ]
    },
    {
     "name": "stderr",
     "output_type": "stream",
     "text": [
      "INFO:fi_nomad.entry:200 total, final loss Not Tracked\n",
      "INFO:fi_nomad.entry:\tInitialization took 3.3379008527845144e-05 loop took 34.32719967098092 overall (0.1716359983549046/ea)\n",
      "INFO:fi_nomad.entry:\tInitiating run, target_rank: 6, tolerance: None\n"
     ]
    },
    {
     "name": "stdout",
     "output_type": "stream",
     "text": [
      "################## BETA 0.2\n"
     ]
    },
    {
     "name": "stderr",
     "output_type": "stream",
     "text": [
      "INFO:fi_nomad.entry:200 total, final loss Not Tracked\n",
      "INFO:fi_nomad.entry:\tInitialization took 3.454898251220584e-05 loop took 33.02846555301221 overall (0.16514232776506105/ea)\n",
      "INFO:fi_nomad.entry:\tInitiating run, target_rank: 6, tolerance: None\n"
     ]
    },
    {
     "name": "stdout",
     "output_type": "stream",
     "text": [
      "################## BETA 0.3\n"
     ]
    },
    {
     "name": "stderr",
     "output_type": "stream",
     "text": [
      "INFO:fi_nomad.entry:200 total, final loss Not Tracked\n",
      "INFO:fi_nomad.entry:\tInitialization took 2.5540997739881277e-05 loop took 33.547017904988024 overall (0.16773508952494012/ea)\n",
      "INFO:fi_nomad.entry:\tInitiating run, target_rank: 6, tolerance: None\n"
     ]
    },
    {
     "name": "stdout",
     "output_type": "stream",
     "text": [
      "################## BETA 0.4\n"
     ]
    },
    {
     "name": "stderr",
     "output_type": "stream",
     "text": [
      "INFO:fi_nomad.entry:200 total, final loss Not Tracked\n",
      "INFO:fi_nomad.entry:\tInitialization took 4.359500599093735e-05 loop took 34.262267723999685 overall (0.17131133861999842/ea)\n",
      "INFO:fi_nomad.entry:\tInitiating run, target_rank: 6, tolerance: None\n"
     ]
    },
    {
     "name": "stdout",
     "output_type": "stream",
     "text": [
      "################## BETA 0.5\n"
     ]
    },
    {
     "name": "stderr",
     "output_type": "stream",
     "text": [
      "INFO:fi_nomad.entry:200 total, final loss Not Tracked\n",
      "INFO:fi_nomad.entry:\tInitialization took 2.5854998966678977e-05 loop took 32.21552612699452 overall (0.1610776306349726/ea)\n",
      "INFO:fi_nomad.entry:\tInitiating run, target_rank: 6, tolerance: None\n"
     ]
    },
    {
     "name": "stdout",
     "output_type": "stream",
     "text": [
      "################## BETA 0.6\n"
     ]
    },
    {
     "name": "stderr",
     "output_type": "stream",
     "text": [
      "INFO:fi_nomad.entry:200 total, final loss Not Tracked\n",
      "INFO:fi_nomad.entry:\tInitialization took 2.6041001547127962e-05 loop took 31.525426854001125 overall (0.15762713427000563/ea)\n",
      "INFO:fi_nomad.entry:\tInitiating run, target_rank: 6, tolerance: None\n"
     ]
    },
    {
     "name": "stdout",
     "output_type": "stream",
     "text": [
      "################## BETA 0.7\n"
     ]
    },
    {
     "name": "stderr",
     "output_type": "stream",
     "text": [
      "INFO:fi_nomad.entry:200 total, final loss Not Tracked\n",
      "INFO:fi_nomad.entry:\tInitialization took 2.3980013793334365e-05 loop took 31.71118974799174 overall (0.1585559487399587/ea)\n",
      "INFO:fi_nomad.entry:\tInitiating run, target_rank: 6, tolerance: None\n"
     ]
    },
    {
     "name": "stdout",
     "output_type": "stream",
     "text": [
      "################## BETA 0.8\n"
     ]
    },
    {
     "name": "stderr",
     "output_type": "stream",
     "text": [
      "INFO:fi_nomad.entry:200 total, final loss Not Tracked\n",
      "INFO:fi_nomad.entry:\tInitialization took 2.6313005946576595e-05 loop took 33.90606599999592 overall (0.16953032999997958/ea)\n",
      "INFO:fi_nomad.entry:\tInitiating run, target_rank: 6, tolerance: None\n"
     ]
    },
    {
     "name": "stdout",
     "output_type": "stream",
     "text": [
      "################## BETA 0.9\n"
     ]
    },
    {
     "name": "stderr",
     "output_type": "stream",
     "text": [
      "INFO:fi_nomad.entry:200 total, final loss Not Tracked\n",
      "INFO:fi_nomad.entry:\tInitialization took 2.4766981368884444e-05 loop took 36.24515506802709 overall (0.18122577534013545/ea)\n"
     ]
    },
    {
     "name": "stdout",
     "output_type": "stream",
     "text": [
      "################## LATENT DIM 5\n"
     ]
    },
    {
     "name": "stderr",
     "output_type": "stream",
     "text": [
      "INFO:fi_nomad.entry:\tInitiating run, target_rank: 5, tolerance: None\n"
     ]
    },
    {
     "name": "stdout",
     "output_type": "stream",
     "text": [
      "################## BETA 0.0\n"
     ]
    },
    {
     "name": "stderr",
     "output_type": "stream",
     "text": [
      "INFO:fi_nomad.entry:200 total, final loss Not Tracked\n",
      "INFO:fi_nomad.entry:\tInitialization took 3.574401489458978e-05 loop took 37.60442206799053 overall (0.18802211033995264/ea)\n",
      "INFO:fi_nomad.entry:\tInitiating run, target_rank: 5, tolerance: None\n"
     ]
    },
    {
     "name": "stdout",
     "output_type": "stream",
     "text": [
      "################## BETA 0.1\n"
     ]
    },
    {
     "name": "stderr",
     "output_type": "stream",
     "text": [
      "INFO:fi_nomad.entry:200 total, final loss Not Tracked\n",
      "INFO:fi_nomad.entry:\tInitialization took 2.6668014470487833e-05 loop took 36.39780204597628 overall (0.1819890102298814/ea)\n",
      "INFO:fi_nomad.entry:\tInitiating run, target_rank: 5, tolerance: None\n"
     ]
    },
    {
     "name": "stdout",
     "output_type": "stream",
     "text": [
      "################## BETA 0.2\n"
     ]
    },
    {
     "name": "stderr",
     "output_type": "stream",
     "text": [
      "INFO:fi_nomad.entry:200 total, final loss Not Tracked\n",
      "INFO:fi_nomad.entry:\tInitialization took 3.4208991564810276e-05 loop took 34.02934062998975 overall (0.17014670314994873/ea)\n",
      "INFO:fi_nomad.entry:\tInitiating run, target_rank: 5, tolerance: None\n"
     ]
    },
    {
     "name": "stdout",
     "output_type": "stream",
     "text": [
      "################## BETA 0.3\n"
     ]
    },
    {
     "name": "stderr",
     "output_type": "stream",
     "text": [
      "INFO:fi_nomad.entry:200 total, final loss Not Tracked\n",
      "INFO:fi_nomad.entry:\tInitialization took 2.525601303204894e-05 loop took 34.87109338698792 overall (0.1743554669349396/ea)\n",
      "INFO:fi_nomad.entry:\tInitiating run, target_rank: 5, tolerance: None\n"
     ]
    },
    {
     "name": "stdout",
     "output_type": "stream",
     "text": [
      "################## BETA 0.4\n"
     ]
    },
    {
     "name": "stderr",
     "output_type": "stream",
     "text": [
      "INFO:fi_nomad.entry:200 total, final loss Not Tracked\n",
      "INFO:fi_nomad.entry:\tInitialization took 2.4303997633978724e-05 loop took 33.6233775029832 overall (0.16811688751491602/ea)\n",
      "INFO:fi_nomad.entry:\tInitiating run, target_rank: 5, tolerance: None\n"
     ]
    },
    {
     "name": "stdout",
     "output_type": "stream",
     "text": [
      "################## BETA 0.5\n"
     ]
    },
    {
     "name": "stderr",
     "output_type": "stream",
     "text": [
      "INFO:fi_nomad.entry:200 total, final loss Not Tracked\n",
      "INFO:fi_nomad.entry:\tInitialization took 2.462801057845354e-05 loop took 34.46549195199623 overall (0.17232745975998115/ea)\n",
      "INFO:fi_nomad.entry:\tInitiating run, target_rank: 5, tolerance: None\n"
     ]
    },
    {
     "name": "stdout",
     "output_type": "stream",
     "text": [
      "################## BETA 0.6\n"
     ]
    },
    {
     "name": "stderr",
     "output_type": "stream",
     "text": [
      "INFO:fi_nomad.entry:200 total, final loss Not Tracked\n",
      "INFO:fi_nomad.entry:\tInitialization took 3.6237004678696394e-05 loop took 31.898105454980396 overall (0.15949052727490198/ea)\n",
      "INFO:fi_nomad.entry:\tInitiating run, target_rank: 5, tolerance: None\n"
     ]
    },
    {
     "name": "stdout",
     "output_type": "stream",
     "text": [
      "################## BETA 0.7\n"
     ]
    },
    {
     "name": "stderr",
     "output_type": "stream",
     "text": [
      "INFO:fi_nomad.entry:200 total, final loss Not Tracked\n",
      "INFO:fi_nomad.entry:\tInitialization took 2.4858018150553107e-05 loop took 30.881130360008683 overall (0.15440565180004343/ea)\n",
      "INFO:fi_nomad.entry:\tInitiating run, target_rank: 5, tolerance: None\n"
     ]
    },
    {
     "name": "stdout",
     "output_type": "stream",
     "text": [
      "################## BETA 0.8\n"
     ]
    },
    {
     "name": "stderr",
     "output_type": "stream",
     "text": [
      "INFO:fi_nomad.entry:200 total, final loss Not Tracked\n",
      "INFO:fi_nomad.entry:\tInitialization took 4.047597758471966e-05 loop took 30.886889432003954 overall (0.15443444716001978/ea)\n",
      "INFO:fi_nomad.entry:\tInitiating run, target_rank: 5, tolerance: None\n"
     ]
    },
    {
     "name": "stdout",
     "output_type": "stream",
     "text": [
      "################## BETA 0.9\n"
     ]
    },
    {
     "name": "stderr",
     "output_type": "stream",
     "text": [
      "INFO:fi_nomad.entry:200 total, final loss Not Tracked\n",
      "INFO:fi_nomad.entry:\tInitialization took 2.4913984816521406e-05 loop took 35.83925859100418 overall (0.1791962929550209/ea)\n"
     ]
    },
    {
     "name": "stdout",
     "output_type": "stream",
     "text": [
      "################## LATENT DIM 4\n"
     ]
    },
    {
     "name": "stderr",
     "output_type": "stream",
     "text": [
      "INFO:fi_nomad.entry:\tInitiating run, target_rank: 4, tolerance: None\n"
     ]
    },
    {
     "name": "stdout",
     "output_type": "stream",
     "text": [
      "################## BETA 0.0\n"
     ]
    },
    {
     "name": "stderr",
     "output_type": "stream",
     "text": [
      "INFO:fi_nomad.entry:200 total, final loss Not Tracked\n",
      "INFO:fi_nomad.entry:\tInitialization took 2.7536996640264988e-05 loop took 32.60172605200205 overall (0.16300863026001025/ea)\n",
      "INFO:fi_nomad.entry:\tInitiating run, target_rank: 4, tolerance: None\n"
     ]
    },
    {
     "name": "stdout",
     "output_type": "stream",
     "text": [
      "################## BETA 0.1\n"
     ]
    },
    {
     "name": "stderr",
     "output_type": "stream",
     "text": [
      "INFO:fi_nomad.entry:200 total, final loss Not Tracked\n",
      "INFO:fi_nomad.entry:\tInitialization took 2.5497982278466225e-05 loop took 32.071147804002976 overall (0.16035573902001488/ea)\n",
      "INFO:fi_nomad.entry:\tInitiating run, target_rank: 4, tolerance: None\n"
     ]
    },
    {
     "name": "stdout",
     "output_type": "stream",
     "text": [
      "################## BETA 0.2\n"
     ]
    },
    {
     "name": "stderr",
     "output_type": "stream",
     "text": [
      "INFO:fi_nomad.entry:200 total, final loss Not Tracked\n",
      "INFO:fi_nomad.entry:\tInitialization took 2.5123998057097197e-05 loop took 33.57868590799626 overall (0.1678934295399813/ea)\n",
      "INFO:fi_nomad.entry:\tInitiating run, target_rank: 4, tolerance: None\n"
     ]
    },
    {
     "name": "stdout",
     "output_type": "stream",
     "text": [
      "################## BETA 0.3\n"
     ]
    },
    {
     "name": "stderr",
     "output_type": "stream",
     "text": [
      "INFO:fi_nomad.entry:200 total, final loss Not Tracked\n",
      "INFO:fi_nomad.entry:\tInitialization took 2.5779008865356445e-05 loop took 32.381219639995834 overall (0.16190609819997917/ea)\n",
      "INFO:fi_nomad.entry:\tInitiating run, target_rank: 4, tolerance: None\n"
     ]
    },
    {
     "name": "stdout",
     "output_type": "stream",
     "text": [
      "################## BETA 0.4\n"
     ]
    },
    {
     "name": "stderr",
     "output_type": "stream",
     "text": [
      "INFO:fi_nomad.entry:200 total, final loss Not Tracked\n",
      "INFO:fi_nomad.entry:\tInitialization took 3.082500188611448e-05 loop took 30.263408522994723 overall (0.1513170426149736/ea)\n",
      "INFO:fi_nomad.entry:\tInitiating run, target_rank: 4, tolerance: None\n"
     ]
    },
    {
     "name": "stdout",
     "output_type": "stream",
     "text": [
      "################## BETA 0.5\n"
     ]
    },
    {
     "name": "stderr",
     "output_type": "stream",
     "text": [
      "INFO:fi_nomad.entry:200 total, final loss Not Tracked\n",
      "INFO:fi_nomad.entry:\tInitialization took 2.599699655547738e-05 loop took 30.183094059990253 overall (0.15091547029995125/ea)\n",
      "INFO:fi_nomad.entry:\tInitiating run, target_rank: 4, tolerance: None\n"
     ]
    },
    {
     "name": "stdout",
     "output_type": "stream",
     "text": [
      "################## BETA 0.6\n"
     ]
    },
    {
     "name": "stderr",
     "output_type": "stream",
     "text": [
      "INFO:fi_nomad.entry:200 total, final loss Not Tracked\n",
      "INFO:fi_nomad.entry:\tInitialization took 2.428898005746305e-05 loop took 32.67107902900898 overall (0.1633553951450449/ea)\n",
      "INFO:fi_nomad.entry:\tInitiating run, target_rank: 4, tolerance: None\n"
     ]
    },
    {
     "name": "stdout",
     "output_type": "stream",
     "text": [
      "################## BETA 0.7\n"
     ]
    },
    {
     "name": "stderr",
     "output_type": "stream",
     "text": [
      "INFO:fi_nomad.entry:200 total, final loss Not Tracked\n",
      "INFO:fi_nomad.entry:\tInitialization took 3.761699190363288e-05 loop took 34.645194316020934 overall (0.17322597158010467/ea)\n",
      "INFO:fi_nomad.entry:\tInitiating run, target_rank: 4, tolerance: None\n"
     ]
    },
    {
     "name": "stdout",
     "output_type": "stream",
     "text": [
      "################## BETA 0.8\n"
     ]
    },
    {
     "name": "stderr",
     "output_type": "stream",
     "text": [
      "INFO:fi_nomad.entry:200 total, final loss Not Tracked\n",
      "INFO:fi_nomad.entry:\tInitialization took 2.525700256228447e-05 loop took 32.32069728299393 overall (0.16160348641496966/ea)\n",
      "INFO:fi_nomad.entry:\tInitiating run, target_rank: 4, tolerance: None\n"
     ]
    },
    {
     "name": "stdout",
     "output_type": "stream",
     "text": [
      "################## BETA 0.9\n"
     ]
    },
    {
     "name": "stderr",
     "output_type": "stream",
     "text": [
      "INFO:fi_nomad.entry:200 total, final loss Not Tracked\n",
      "INFO:fi_nomad.entry:\tInitialization took 2.637997386045754e-05 loop took 34.62486055100453 overall (0.17312430275502266/ea)\n"
     ]
    },
    {
     "name": "stdout",
     "output_type": "stream",
     "text": [
      "################## LATENT DIM 3\n"
     ]
    },
    {
     "name": "stderr",
     "output_type": "stream",
     "text": [
      "INFO:fi_nomad.entry:\tInitiating run, target_rank: 3, tolerance: None\n"
     ]
    },
    {
     "name": "stdout",
     "output_type": "stream",
     "text": [
      "################## BETA 0.0\n"
     ]
    },
    {
     "name": "stderr",
     "output_type": "stream",
     "text": [
      "INFO:fi_nomad.entry:200 total, final loss Not Tracked\n",
      "INFO:fi_nomad.entry:\tInitialization took 7.612400804646313e-05 loop took 32.78004998998949 overall (0.16390024994994745/ea)\n",
      "INFO:fi_nomad.entry:\tInitiating run, target_rank: 3, tolerance: None\n"
     ]
    },
    {
     "name": "stdout",
     "output_type": "stream",
     "text": [
      "################## BETA 0.1\n"
     ]
    },
    {
     "name": "stderr",
     "output_type": "stream",
     "text": [
      "INFO:fi_nomad.entry:200 total, final loss Not Tracked\n",
      "INFO:fi_nomad.entry:\tInitialization took 3.529101377353072e-05 loop took 31.294274679006776 overall (0.1564713733950339/ea)\n",
      "INFO:fi_nomad.entry:\tInitiating run, target_rank: 3, tolerance: None\n"
     ]
    },
    {
     "name": "stdout",
     "output_type": "stream",
     "text": [
      "################## BETA 0.2\n"
     ]
    },
    {
     "name": "stderr",
     "output_type": "stream",
     "text": [
      "INFO:fi_nomad.entry:200 total, final loss Not Tracked\n",
      "INFO:fi_nomad.entry:\tInitialization took 2.8145004762336612e-05 loop took 32.87363706098404 overall (0.1643681853049202/ea)\n",
      "INFO:fi_nomad.entry:\tInitiating run, target_rank: 3, tolerance: None\n"
     ]
    },
    {
     "name": "stdout",
     "output_type": "stream",
     "text": [
      "################## BETA 0.3\n"
     ]
    },
    {
     "name": "stderr",
     "output_type": "stream",
     "text": [
      "INFO:fi_nomad.entry:200 total, final loss Not Tracked\n",
      "INFO:fi_nomad.entry:\tInitialization took 3.458699211478233e-05 loop took 32.702895029011415 overall (0.16351447514505707/ea)\n",
      "INFO:fi_nomad.entry:\tInitiating run, target_rank: 3, tolerance: None\n"
     ]
    },
    {
     "name": "stdout",
     "output_type": "stream",
     "text": [
      "################## BETA 0.4\n"
     ]
    },
    {
     "name": "stderr",
     "output_type": "stream",
     "text": [
      "INFO:fi_nomad.entry:200 total, final loss Not Tracked\n",
      "INFO:fi_nomad.entry:\tInitialization took 3.4124008379876614e-05 loop took 32.080531251995126 overall (0.16040265625997563/ea)\n",
      "INFO:fi_nomad.entry:\tInitiating run, target_rank: 3, tolerance: None\n"
     ]
    },
    {
     "name": "stdout",
     "output_type": "stream",
     "text": [
      "################## BETA 0.5\n"
     ]
    },
    {
     "name": "stderr",
     "output_type": "stream",
     "text": [
      "INFO:fi_nomad.entry:200 total, final loss Not Tracked\n",
      "INFO:fi_nomad.entry:\tInitialization took 2.933401265181601e-05 loop took 33.71993532899069 overall (0.16859967664495343/ea)\n",
      "INFO:fi_nomad.entry:\tInitiating run, target_rank: 3, tolerance: None\n"
     ]
    },
    {
     "name": "stdout",
     "output_type": "stream",
     "text": [
      "################## BETA 0.6\n"
     ]
    },
    {
     "name": "stderr",
     "output_type": "stream",
     "text": [
      "INFO:fi_nomad.entry:200 total, final loss Not Tracked\n",
      "INFO:fi_nomad.entry:\tInitialization took 3.67760076187551e-05 loop took 35.83583589599584 overall (0.17917917947997922/ea)\n",
      "INFO:fi_nomad.entry:\tInitiating run, target_rank: 3, tolerance: None\n"
     ]
    },
    {
     "name": "stdout",
     "output_type": "stream",
     "text": [
      "################## BETA 0.7\n"
     ]
    },
    {
     "name": "stderr",
     "output_type": "stream",
     "text": [
      "INFO:fi_nomad.entry:200 total, final loss Not Tracked\n",
      "INFO:fi_nomad.entry:\tInitialization took 4.0287995943799615e-05 loop took 34.595987789012725 overall (0.1729799389450636/ea)\n",
      "INFO:fi_nomad.entry:\tInitiating run, target_rank: 3, tolerance: None\n"
     ]
    },
    {
     "name": "stdout",
     "output_type": "stream",
     "text": [
      "################## BETA 0.8\n"
     ]
    },
    {
     "name": "stderr",
     "output_type": "stream",
     "text": [
      "INFO:fi_nomad.entry:200 total, final loss Not Tracked\n",
      "INFO:fi_nomad.entry:\tInitialization took 2.881899126805365e-05 loop took 29.748416226997506 overall (0.14874208113498752/ea)\n",
      "INFO:fi_nomad.entry:\tInitiating run, target_rank: 3, tolerance: None\n"
     ]
    },
    {
     "name": "stdout",
     "output_type": "stream",
     "text": [
      "################## BETA 0.9\n"
     ]
    },
    {
     "name": "stderr",
     "output_type": "stream",
     "text": [
      "INFO:fi_nomad.entry:200 total, final loss Not Tracked\n",
      "INFO:fi_nomad.entry:\tInitialization took 2.9960996471345425e-05 loop took 32.638550172996474 overall (0.16319275086498236/ea)\n"
     ]
    },
    {
     "name": "stdout",
     "output_type": "stream",
     "text": [
      "################## LATENT DIM 2\n"
     ]
    },
    {
     "name": "stderr",
     "output_type": "stream",
     "text": [
      "INFO:fi_nomad.entry:\tInitiating run, target_rank: 2, tolerance: None\n"
     ]
    },
    {
     "name": "stdout",
     "output_type": "stream",
     "text": [
      "################## BETA 0.0\n"
     ]
    },
    {
     "name": "stderr",
     "output_type": "stream",
     "text": [
      "INFO:fi_nomad.entry:200 total, final loss Not Tracked\n",
      "INFO:fi_nomad.entry:\tInitialization took 2.6021996745839715e-05 loop took 28.886734645988327 overall (0.14443367322994163/ea)\n",
      "INFO:fi_nomad.entry:\tInitiating run, target_rank: 2, tolerance: None\n"
     ]
    },
    {
     "name": "stdout",
     "output_type": "stream",
     "text": [
      "################## BETA 0.1\n"
     ]
    },
    {
     "name": "stderr",
     "output_type": "stream",
     "text": [
      "INFO:fi_nomad.entry:200 total, final loss Not Tracked\n",
      "INFO:fi_nomad.entry:\tInitialization took 3.83509905077517e-05 loop took 28.505333975015674 overall (0.14252666987507837/ea)\n",
      "INFO:fi_nomad.entry:\tInitiating run, target_rank: 2, tolerance: None\n"
     ]
    },
    {
     "name": "stdout",
     "output_type": "stream",
     "text": [
      "################## BETA 0.2\n"
     ]
    },
    {
     "name": "stderr",
     "output_type": "stream",
     "text": [
      "INFO:fi_nomad.entry:200 total, final loss Not Tracked\n",
      "INFO:fi_nomad.entry:\tInitialization took 3.147099050693214e-05 loop took 28.71504998402088 overall (0.1435752499201044/ea)\n",
      "INFO:fi_nomad.entry:\tInitiating run, target_rank: 2, tolerance: None\n"
     ]
    },
    {
     "name": "stdout",
     "output_type": "stream",
     "text": [
      "################## BETA 0.3\n"
     ]
    },
    {
     "name": "stderr",
     "output_type": "stream",
     "text": [
      "INFO:fi_nomad.entry:200 total, final loss Not Tracked\n",
      "INFO:fi_nomad.entry:\tInitialization took 2.1818996174260974e-05 loop took 27.993351462006103 overall (0.13996675731003053/ea)\n",
      "INFO:fi_nomad.entry:\tInitiating run, target_rank: 2, tolerance: None\n"
     ]
    },
    {
     "name": "stdout",
     "output_type": "stream",
     "text": [
      "################## BETA 0.4\n"
     ]
    },
    {
     "name": "stderr",
     "output_type": "stream",
     "text": [
      "INFO:fi_nomad.entry:200 total, final loss Not Tracked\n",
      "INFO:fi_nomad.entry:\tInitialization took 2.9785995138809085e-05 loop took 28.18505805998575 overall (0.14092529029992876/ea)\n",
      "INFO:fi_nomad.entry:\tInitiating run, target_rank: 2, tolerance: None\n"
     ]
    },
    {
     "name": "stdout",
     "output_type": "stream",
     "text": [
      "################## BETA 0.5\n"
     ]
    },
    {
     "name": "stderr",
     "output_type": "stream",
     "text": [
      "INFO:fi_nomad.entry:200 total, final loss Not Tracked\n",
      "INFO:fi_nomad.entry:\tInitialization took 6.26410183031112e-05 loop took 27.98510065599112 overall (0.1399255032799556/ea)\n",
      "INFO:fi_nomad.entry:\tInitiating run, target_rank: 2, tolerance: None\n"
     ]
    },
    {
     "name": "stdout",
     "output_type": "stream",
     "text": [
      "################## BETA 0.6\n"
     ]
    },
    {
     "name": "stderr",
     "output_type": "stream",
     "text": [
      "INFO:fi_nomad.entry:200 total, final loss Not Tracked\n",
      "INFO:fi_nomad.entry:\tInitialization took 2.4563982151448727e-05 loop took 28.242033346003154 overall (0.14121016673001577/ea)\n",
      "INFO:fi_nomad.entry:\tInitiating run, target_rank: 2, tolerance: None\n"
     ]
    },
    {
     "name": "stdout",
     "output_type": "stream",
     "text": [
      "################## BETA 0.7\n"
     ]
    },
    {
     "name": "stderr",
     "output_type": "stream",
     "text": [
      "INFO:fi_nomad.entry:200 total, final loss Not Tracked\n",
      "INFO:fi_nomad.entry:\tInitialization took 2.2177002392709255e-05 loop took 28.007095919019775 overall (0.14003547959509888/ea)\n",
      "INFO:fi_nomad.entry:\tInitiating run, target_rank: 2, tolerance: None\n"
     ]
    },
    {
     "name": "stdout",
     "output_type": "stream",
     "text": [
      "################## BETA 0.8\n"
     ]
    },
    {
     "name": "stderr",
     "output_type": "stream",
     "text": [
      "INFO:fi_nomad.entry:200 total, final loss Not Tracked\n",
      "INFO:fi_nomad.entry:\tInitialization took 2.5412999093532562e-05 loop took 28.052064414980123 overall (0.1402603220749006/ea)\n",
      "INFO:fi_nomad.entry:\tInitiating run, target_rank: 2, tolerance: None\n"
     ]
    },
    {
     "name": "stdout",
     "output_type": "stream",
     "text": [
      "################## BETA 0.9\n"
     ]
    },
    {
     "name": "stderr",
     "output_type": "stream",
     "text": [
      "INFO:fi_nomad.entry:200 total, final loss Not Tracked\n",
      "INFO:fi_nomad.entry:\tInitialization took 3.0513998353853822e-05 loop took 29.534123282996006 overall (0.14767061641498003/ea)\n"
     ]
    },
    {
     "name": "stdout",
     "output_type": "stream",
     "text": [
      "################## LATENT DIM 1\n"
     ]
    },
    {
     "name": "stderr",
     "output_type": "stream",
     "text": [
      "INFO:fi_nomad.entry:\tInitiating run, target_rank: 1, tolerance: None\n"
     ]
    },
    {
     "name": "stdout",
     "output_type": "stream",
     "text": [
      "################## BETA 0.0\n"
     ]
    },
    {
     "name": "stderr",
     "output_type": "stream",
     "text": [
      "INFO:fi_nomad.entry:200 total, final loss Not Tracked\n",
      "INFO:fi_nomad.entry:\tInitialization took 2.4586013751104474e-05 loop took 28.005605754005956 overall (0.1400280287700298/ea)\n",
      "INFO:fi_nomad.entry:\tInitiating run, target_rank: 1, tolerance: None\n"
     ]
    },
    {
     "name": "stdout",
     "output_type": "stream",
     "text": [
      "################## BETA 0.1\n"
     ]
    },
    {
     "name": "stderr",
     "output_type": "stream",
     "text": [
      "INFO:fi_nomad.entry:200 total, final loss Not Tracked\n",
      "INFO:fi_nomad.entry:\tInitialization took 3.3177988370880485e-05 loop took 27.43885898499866 overall (0.1371942949249933/ea)\n",
      "INFO:fi_nomad.entry:\tInitiating run, target_rank: 1, tolerance: None\n"
     ]
    },
    {
     "name": "stdout",
     "output_type": "stream",
     "text": [
      "################## BETA 0.2\n"
     ]
    },
    {
     "name": "stderr",
     "output_type": "stream",
     "text": [
      "INFO:fi_nomad.entry:200 total, final loss Not Tracked\n",
      "INFO:fi_nomad.entry:\tInitialization took 2.4115986889228225e-05 loop took 27.539179671002785 overall (0.13769589835501392/ea)\n",
      "INFO:fi_nomad.entry:\tInitiating run, target_rank: 1, tolerance: None\n"
     ]
    },
    {
     "name": "stdout",
     "output_type": "stream",
     "text": [
      "################## BETA 0.3\n"
     ]
    },
    {
     "name": "stderr",
     "output_type": "stream",
     "text": [
      "INFO:fi_nomad.entry:200 total, final loss Not Tracked\n",
      "INFO:fi_nomad.entry:\tInitialization took 2.228299854323268e-05 loop took 27.541870315995766 overall (0.13770935157997882/ea)\n",
      "INFO:fi_nomad.entry:\tInitiating run, target_rank: 1, tolerance: None\n"
     ]
    },
    {
     "name": "stdout",
     "output_type": "stream",
     "text": [
      "################## BETA 0.4\n"
     ]
    },
    {
     "name": "stderr",
     "output_type": "stream",
     "text": [
      "INFO:fi_nomad.entry:200 total, final loss Not Tracked\n",
      "INFO:fi_nomad.entry:\tInitialization took 3.9081001887097955e-05 loop took 27.68248646799475 overall (0.13841243233997375/ea)\n",
      "INFO:fi_nomad.entry:\tInitiating run, target_rank: 1, tolerance: None\n"
     ]
    },
    {
     "name": "stdout",
     "output_type": "stream",
     "text": [
      "################## BETA 0.5\n"
     ]
    },
    {
     "name": "stderr",
     "output_type": "stream",
     "text": [
      "INFO:fi_nomad.entry:200 total, final loss Not Tracked\n",
      "INFO:fi_nomad.entry:\tInitialization took 2.9664981411769986e-05 loop took 27.590330831997562 overall (0.1379516541599878/ea)\n",
      "INFO:fi_nomad.entry:\tInitiating run, target_rank: 1, tolerance: None\n"
     ]
    },
    {
     "name": "stdout",
     "output_type": "stream",
     "text": [
      "################## BETA 0.6\n"
     ]
    },
    {
     "name": "stderr",
     "output_type": "stream",
     "text": [
      "INFO:fi_nomad.entry:200 total, final loss Not Tracked\n",
      "INFO:fi_nomad.entry:\tInitialization took 2.2135995095595717e-05 loop took 27.61413449299289 overall (0.13807067246496443/ea)\n",
      "INFO:fi_nomad.entry:\tInitiating run, target_rank: 1, tolerance: None\n"
     ]
    },
    {
     "name": "stdout",
     "output_type": "stream",
     "text": [
      "################## BETA 0.7\n"
     ]
    },
    {
     "name": "stderr",
     "output_type": "stream",
     "text": [
      "INFO:fi_nomad.entry:200 total, final loss Not Tracked\n",
      "INFO:fi_nomad.entry:\tInitialization took 3.241698141209781e-05 loop took 27.820525841001654 overall (0.13910262920500827/ea)\n",
      "INFO:fi_nomad.entry:\tInitiating run, target_rank: 1, tolerance: None\n"
     ]
    },
    {
     "name": "stdout",
     "output_type": "stream",
     "text": [
      "################## BETA 0.8\n"
     ]
    },
    {
     "name": "stderr",
     "output_type": "stream",
     "text": [
      "INFO:fi_nomad.entry:200 total, final loss Not Tracked\n",
      "INFO:fi_nomad.entry:\tInitialization took 3.2644980819895864e-05 loop took 34.55549450300168 overall (0.1727774725150084/ea)\n",
      "INFO:fi_nomad.entry:\tInitiating run, target_rank: 1, tolerance: None\n"
     ]
    },
    {
     "name": "stdout",
     "output_type": "stream",
     "text": [
      "################## BETA 0.9\n"
     ]
    },
    {
     "name": "stderr",
     "output_type": "stream",
     "text": [
      "INFO:fi_nomad.entry:200 total, final loss Not Tracked\n",
      "INFO:fi_nomad.entry:\tInitialization took 4.072400042787194e-05 loop took 34.186986884014914 overall (0.17093493442007457/ea)\n"
     ]
    }
   ],
   "source": [
    "select_cs_results = cs.select_3b_params_countsplit(\n",
    "    data_train,\n",
    "    data_test,\n",
    "    potential_ks=ks_2_check,\n",
    "    potential_betas=betas_2_check,\n",
    "    layer=\"counts\",\n",
    "    maxiters=200,\n",
    ")"
   ]
  },
  {
   "cell_type": "code",
   "execution_count": 11,
   "metadata": {},
   "outputs": [
    {
     "data": {
      "text/plain": [
       "<Axes: xlabel='k', ylabel='loss'>"
      ]
     },
     "execution_count": 11,
     "metadata": {},
     "output_type": "execute_result"
    },
    {
     "data": {
      "image/png": "[encoded data removed]",
      "text/plain": [
       "<Figure size 640x480 with 1 Axes>"
      ]
     },
     "metadata": {},
     "output_type": "display_data"
    }
   ],
   "source": [
    "sns.lineplot(data=select_cs_results, x=\"k\", y=\"loss\", hue=\"beta\", palette=\"tab10\")"
   ]
  },
  {
   "cell_type": "code",
   "execution_count": 19,
   "metadata": {},
   "outputs": [
    {
     "data": {
      "image/png": "[encoded data removed]",
      "text/plain": [
       "<Figure size 640x480 with 1 Axes>"
      ]
     },
     "metadata": {},
     "output_type": "display_data"
    }
   ],
   "source": [
    "\n",
    "fig, ax = plt.subplots()\n",
    "latent_dim_search_counts = sns.lineplot(\n",
    "    data=select_cs_results, x=\"k\", y=\"loss\", \n",
    "    hue=\"beta\", palette=\"tab10\")\n",
    "plt.ylabel(\"Test loss\")\n",
    "plt.xlabel(\"Latent dimension r\")\n",
    "plt.ylim([890, 970])\n",
    "ax.set_xticks([1, 2, 3, 4, 5, 6, 7, 8, 9, 10])\n",
    "plt.axvline(x=k_opt, color=\"red\", linestyle=\"dashed\")\n",
    "plt.show()"
   ]
  },
  {
   "cell_type": "code",
   "execution_count": 12,
   "metadata": {},
   "outputs": [],
   "source": [
    "k_opt, beta_opt, _ = select_cs_results.sort_values(by=\"loss\").iloc[0]\n",
    "k_opt = int(k_opt)\n",
    "beta_opt = float(beta_opt)"
   ]
  },
  {
   "cell_type": "code",
   "execution_count": 13,
   "metadata": {},
   "outputs": [
    {
     "name": "stdout",
     "output_type": "stream",
     "text": [
      "Optimal latent dim: 1\n",
      "Optimal beta: 0.7\n"
     ]
    }
   ],
   "source": [
    "print(f\"Optimal latent dim: {k_opt}\")\n",
    "print(f\"Optimal beta: {beta_opt}\")"
   ]
  },
  {
   "cell_type": "markdown",
   "metadata": {},
   "source": [
    "## Fit NMD with found parameters"
   ]
  },
  {
   "cell_type": "code",
   "execution_count": 20,
   "metadata": {},
   "outputs": [],
   "source": [
    "n, p = data.X.shape"
   ]
  },
  {
   "cell_type": "code",
   "execution_count": 22,
   "metadata": {},
   "outputs": [],
   "source": [
    "X_nmd = ut.convert_to_dense(data, layer=\"counts\")\n",
    "W0, H0 = cs.nuclear_norm_init(X_nmd, n, p, k_opt)\n",
    "Theta0 = W0 @ H0"
   ]
  },
  {
   "cell_type": "code",
   "execution_count": 23,
   "metadata": {},
   "outputs": [],
   "source": [
    "init_strat = InitializationStrategy.KNOWN_MATRIX\n",
    "kernel_strat = KernelStrategy.MOMENTUM_3_BLOCK_MODEL_FREE"
   ]
  },
  {
   "cell_type": "code",
   "execution_count": 25,
   "metadata": {},
   "outputs": [
    {
     "name": "stderr",
     "output_type": "stream",
     "text": [
      "INFO:fi_nomad.entry:\tInitiating run, target_rank: 1, tolerance: None\n",
      "INFO:fi_nomad.entry:200 total, final loss Not Tracked\n",
      "INFO:fi_nomad.entry:\tInitialization took 3.2912008464336395e-05 loop took 34.60164556399104 overall (0.1730082278199552/ea)\n"
     ]
    }
   ],
   "source": [
    "kernel_params = kernelInputTypes.Momentum3BlockAdditionalParameters(\n",
    "    momentum_beta=beta_opt, \n",
    "    candidate_factor_W0=W0, candidate_factor_H0=H0,\n",
    ")\n",
    "nmd_result = nmd.decompose(\n",
    "            X_nmd, k_opt, \n",
    "            kernel_strategy=kernel_strat, \n",
    "            initialization=init_strat,                  \n",
    "            kernel_params=kernel_params, \n",
    "            manual_max_iterations=200,   \n",
    "            verbose=True, tolerance=None)"
   ]
  },
  {
   "cell_type": "code",
   "execution_count": null,
   "metadata": {},
   "outputs": [],
   "source": []
  }
 ],
 "metadata": {
  "kernelspec": {
   "display_name": "bacsc-jupyter-lrz",
   "language": "python",
   "name": "python3"
  },
  "language_info": {
   "codemirror_mode": {
    "name": "ipython",
    "version": 3
   },
   "file_extension": ".py",
   "mimetype": "text/x-python",
   "name": "python",
   "nbconvert_exporter": "python",
   "pygments_lexer": "ipython3",
   "version": "3.10.14"
  }
 },
 "nbformat": 4,
 "nbformat_minor": 2
}
